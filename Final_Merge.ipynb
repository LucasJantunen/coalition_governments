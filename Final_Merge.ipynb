{
  "cells": [
    {
      "cell_type": "markdown",
      "metadata": {},
      "source": [
        "# Merge Election and Cabinet Data\n",
        "This notebook merges each election with the next cabinet formed after the election, including all cabinet variables."
      ]
    },
    {
      "cell_type": "code",
      "execution_count": null,
      "metadata": {},
      "outputs": [],
      "source": [
        "import pandas as pd\n",
        "\n",
        "# Load Excel files\n",
        "cabinet_file = \"Cabinet_data.xlsx\"\n",
        "election_file = \"election_data_weights.xlsx\"\n",
        "\n",
        "cabinet_df = pd.read_excel(cabinet_file)\n",
        "election_df = pd.read_excel(election_file)\n",
        "\n",
        "# Convert date columns to datetime\n",
        "cabinet_df[\"gov_start_date\"] = pd.to_datetime(cabinet_df[\"gov_start_date\"])\n",
        "election_df[\"election_date\"] = pd.to_datetime(election_df[\"election_date\"])\n",
        "\n",
        "# Sort for consistency\n",
        "cabinet_df.sort_values(by=[\"countryID\", \"gov_start_date\"], inplace=True)\n",
        "election_df.sort_values(by=[\"countryID\", \"election_date\"], inplace=True)"
      ]
    },
    {
      "cell_type": "code",
      "execution_count": null,
      "metadata": {},
      "outputs": [],
      "source": [
        "# Merge logic\n",
        "merged_rows = []\n",
        "\n",
        "for (country, election_date), group in election_df.groupby([\"countryID\", \"election_date\"]):\n",
        "    cabinets_country = cabinet_df[cabinet_df[\"countryID\"] == country]\n",
        "    next_cabinet_date = cabinets_country[cabinets_country[\"gov_start_date\"] > election_date][\"gov_start_date\"].min()\n",
        "    \n",
        "    if pd.isna(next_cabinet_date):\n",
        "        continue\n",
        "\n",
        "    matching_cabinet = cabinets_country[cabinets_country[\"gov_start_date\"] == next_cabinet_date]\n",
        "\n",
        "    merged = pd.merge(\n",
        "        group,\n",
        "        matching_cabinet,\n",
        "        on=\"partyID\",\n",
        "        how=\"left\",\n",
        "        suffixes=(\"\", \"_cabinet\")\n",
        "    )\n",
        "\n",
        "    merged_rows.append(merged)\n",
        "\n",
        "final_df = pd.concat(merged_rows, ignore_index=True)"
      ]
    },
    {
      "cell_type": "code",
      "execution_count": null,
      "metadata": {},
      "outputs": [],
      "source": [
        "# Save to Excel\n",
        "final_df.to_excel(\"full_merged_election_cabinet_data.xlsx\", index=False)\n",
        "print(\"\u2705 Merging complete! Output saved as 'full_merged_election_cabinet_data.xlsx'\")"
      ]
    }
  ],
  "metadata": {
    "kernelspec": {
      "display_name": "Python 3",
      "language": "python",
      "name": "python3"
    },
    "language_info": {
      "name": "python",
      "version": "3.11"
    }
  },
  "nbformat": 4,
  "nbformat_minor": 2
}