{
 "cells": [
  {
   "cell_type": "markdown",
   "metadata": {},
   "source": [
    "# Merge Election and Cabinet Data\n",
    "This notebook merges each election with the next cabinet formed after the election, including all cabinet variables."
   ]
  },
  {
   "cell_type": "code",
   "execution_count": 7,
   "metadata": {},
   "outputs": [],
   "source": [
    "import pandas as pd\n",
    "\n",
    "# Load Excel files\n",
    "cabinet_file = \"Cabinet_data.xlsx\"\n",
    "election_file = \"election_data_weights.xlsx\"\n",
    "\n",
    "cabinet_df = pd.read_excel(cabinet_file)\n",
    "election_df = pd.read_excel(election_file)\n",
    "\n",
    "# Convert date columns to datetime\n",
    "cabinet_df[\"gov_start_date\"] = pd.to_datetime(cabinet_df[\"gov_start_date\"])\n",
    "election_df[\"election_date\"] = pd.to_datetime(election_df[\"election_date\"])\n",
    "\n",
    "# Sort for consistency\n",
    "cabinet_df.sort_values(by=[\"countryID\", \"gov_start_date\"], inplace=True)\n",
    "election_df.sort_values(by=[\"countryID\", \"election_date\"], inplace=True)\n",
    "\n",
    "# Filter out Austria 2002, Denmark 2007 and before, and Finland 2007\n",
    "election_df = election_df[~(\n",
    "    ((election_df['countryID'] == 'AT') & (election_df['year'] == 2002)) |\n",
    "    ((election_df['countryID'] == 'DK') & (election_df['year'] <= 2007)) |\n",
    "    ((election_df['countryID'] == 'FI') & (election_df['year'] == 2007))\n",
    ")]"
   ]
  },
  {
   "cell_type": "code",
   "execution_count": 8,
   "metadata": {},
   "outputs": [],
   "source": [
    "# Merge logic\n",
    "merged_rows = []\n",
    "\n",
    "for (country, election_date), group in election_df.groupby([\"countryID\", \"election_date\"]):\n",
    "    cabinets_country = cabinet_df[cabinet_df[\"countryID\"] == country]\n",
    "    next_cabinet_date = cabinets_country[cabinets_country[\"gov_start_date\"] > election_date][\"gov_start_date\"].min()\n",
    "    \n",
    "    if pd.isna(next_cabinet_date):\n",
    "        continue\n",
    "\n",
    "    matching_cabinet = cabinets_country[cabinets_country[\"gov_start_date\"] == next_cabinet_date]\n",
    "\n",
    "    merged = pd.merge(\n",
    "        group,\n",
    "        matching_cabinet,\n",
    "        on=\"partyID\",\n",
    "        how=\"left\",\n",
    "        suffixes=(\"\", \"_cabinet\")\n",
    "    )\n",
    "\n",
    "    merged_rows.append(merged)\n",
    "\n",
    "final_df = pd.concat(merged_rows, ignore_index=True)"
   ]
  },
  {
   "cell_type": "code",
   "execution_count": 9,
   "metadata": {},
   "outputs": [],
   "source": [
    "final_df['F'] = None"
   ]
  },
  {
   "cell_type": "code",
   "execution_count": 10,
   "metadata": {},
   "outputs": [],
   "source": [
    "\n",
    "# Calculate total seats and voting weight of government parties per election\n",
    "gov_parties_df = final_df[final_df['cab_pos'] > 0]\n",
    "group_cols = ['election_date', 'countryID']\n",
    "gov_totals = gov_parties_df.groupby(group_cols).agg(\n",
    "    total_gov_seats=('seats', 'sum'),\n",
    "    total_gov_voting_weight=('voting_weight', 'sum')\n",
    ").reset_index()\n",
    "\n",
    "# Merge and compute shares\n",
    "df = final_df.merge(gov_totals, on=group_cols, how='left')\n",
    "df['gov_seat_share'] = df.apply(\n",
    "    lambda row: row['seats'] / row['total_gov_seats'] if row['cab_pos'] > 0 else None,\n",
    "    axis=1\n",
    ")\n",
    "df['gov_weight_share'] = df.apply(\n",
    "    lambda row: row['voting_weight'] / row['total_gov_voting_weight'] if row['cab_pos'] > 0 else None,\n",
    "    axis=1\n",
    ")\n",
    "df.drop(columns=['total_gov_seats', 'total_gov_voting_weight'], inplace=True)"
   ]
  },
  {
   "cell_type": "code",
   "execution_count": 11,
   "metadata": {},
   "outputs": [
    {
     "name": "stdout",
     "output_type": "stream",
     "text": [
      "✅ Merging complete! Output saved as 'full_merged_election_cabinet_data.xlsx'\n"
     ]
    }
   ],
   "source": [
    "# Save to Excel\n",
    "df.to_excel(\"Final_merge.xlsx\", index=False)\n",
    "print(\"✅ Merging complete! Output saved as 'full_merged_election_cabinet_data.xlsx'\")"
   ]
  }
 ],
 "metadata": {
  "kernelspec": {
   "display_name": "base",
   "language": "python",
   "name": "python3"
  },
  "language_info": {
   "codemirror_mode": {
    "name": "ipython",
    "version": 3
   },
   "file_extension": ".py",
   "mimetype": "text/x-python",
   "name": "python",
   "nbconvert_exporter": "python",
   "pygments_lexer": "ipython3",
   "version": "3.11.7"
  }
 },
 "nbformat": 4,
 "nbformat_minor": 2
}
